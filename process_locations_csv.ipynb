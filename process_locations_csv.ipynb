{
 "cells": [
  {
   "attachments": {},
   "cell_type": "markdown",
   "id": "c896046d-a248-437d-9e70-4e2acec20ff4",
   "metadata": {},
   "source": [
    "### imports"
   ]
  },
  {
   "cell_type": "code",
   "execution_count": 6,
   "id": "e27112b3-5266-4893-8971-84e98ac20ae5",
   "metadata": {},
   "outputs": [],
   "source": [
    "import numpy as np\n",
    "import sqlite3\n",
    "import pandas as pd"
   ]
  },
  {
   "attachments": {},
   "cell_type": "markdown",
   "id": "e76c673e-6cf9-4095-9edf-b296bb3b5fe7",
   "metadata": {},
   "source": [
    "### Create the Database Vaccinations.db if not exisits"
   ]
  },
  {
   "cell_type": "code",
   "execution_count": 7,
   "id": "50325631-a245-4b0b-b65d-f93c23be3ea2",
   "metadata": {},
   "outputs": [
    {
     "name": "stdout",
     "output_type": "stream",
     "text": [
      "Connected to SQLite database Vaccinations.db\n"
     ]
    }
   ],
   "source": [
    "database_name = 'Vaccinations.db'\n",
    "conn = sqlite3.connect(database_name)\n",
    "print(\"Connected to SQLite database Vaccinations.db\")\n",
    "conn.close()"
   ]
  },
  {
   "attachments": {},
   "cell_type": "markdown",
   "id": "cf58e751-37ce-433f-b2ae-1430f88246aa",
   "metadata": {},
   "source": [
    "### Create the necessary tables in Vaccinations.db required to store the data of locations.csv in a normalized form"
   ]
  },
  {
   "attachments": {},
   "cell_type": "markdown",
   "id": "4c56d59f-4c6f-41f0-b6e9-1ae9747283b1",
   "metadata": {},
   "source": [
    "##### Location Table"
   ]
  },
  {
   "cell_type": "code",
   "execution_count": 8,
   "id": "aa0d9e52-f95d-4717-884c-3c46eb0a0da7",
   "metadata": {},
   "outputs": [
    {
     "name": "stdout",
     "output_type": "stream",
     "text": [
      "Successfully Created the table Location\n"
     ]
    }
   ],
   "source": [
    "conn = sqlite3.connect('Vaccinations.db')\n",
    "cur = conn.cursor()\n",
    "createLocationsTableSql = \"\"\"\n",
    "CREATE TABLE Location (\n",
    "    location_id INTEGER PRIMARY KEY,\n",
    "    location TEXT NOT NULL,\n",
    "    iso_code TEXT NOT NULL\n",
    ");\n",
    "\"\"\"\n",
    "\n",
    "try:\n",
    "    cur.execute(createLocationsTableSql)\n",
    "    conn.commit()\n",
    "    print('Successfully Created the table Location')\n",
    "except Exception as e:\n",
    "    print(e)\n",
    "finally:\n",
    "    conn.close()"
   ]
  },
  {
   "attachments": {},
   "cell_type": "markdown",
   "id": "05af888b-24f5-4af0-82cf-19c89a81bc8a",
   "metadata": {},
   "source": [
    "##### Source Table"
   ]
  },
  {
   "cell_type": "code",
   "execution_count": 9,
   "id": "89043721-f3c4-42c2-85ca-3fb872cfc636",
   "metadata": {},
   "outputs": [
    {
     "name": "stdout",
     "output_type": "stream",
     "text": [
      "Successfully Created the table Source\n"
     ]
    }
   ],
   "source": [
    "conn = sqlite3.connect('Vaccinations.db')\n",
    "cur = conn.cursor()\n",
    "createSourceTableSql = \"\"\"\n",
    "CREATE TABLE Source (\n",
    "    source_id INTEGER PRIMARY KEY,\n",
    "    location_id INTEGER NOT NULL,\n",
    "    last_observation_date DATE NOT NULL,\n",
    "    source_name TEXT NOT NULL,\n",
    "    source_website TEXT NOT NULL,\n",
    "    FOREIGN KEY (location_id) REFERENCES Location(location_id)\n",
    ");\n",
    "\"\"\"\n",
    "\n",
    "try:\n",
    "    cur.execute(createSourceTableSql)\n",
    "    conn.commit()\n",
    "    print('Successfully Created the table Source')\n",
    "except Exception as e:\n",
    "    print(e)\n",
    "finally:\n",
    "    conn.close()"
   ]
  },
  {
   "attachments": {},
   "cell_type": "markdown",
   "id": "7a31a9d6-54e9-4ce2-bc4e-0ba5e61ec237",
   "metadata": {},
   "source": [
    "##### Vaccination Table"
   ]
  },
  {
   "cell_type": "code",
   "execution_count": 10,
   "id": "b8216ac3-2104-47ec-945f-f0c73c57b41e",
   "metadata": {},
   "outputs": [
    {
     "name": "stdout",
     "output_type": "stream",
     "text": [
      "Successfully Created the table Vaccination\n"
     ]
    }
   ],
   "source": [
    "conn = sqlite3.connect('Vaccinations.db')\n",
    "cur = conn.cursor()\n",
    "createVaccinationTableSql = \"\"\"\n",
    "CREATE TABLE Vaccination (\n",
    "    vaccination_id INTEGER PRIMARY KEY,\n",
    "    location_id INTEGER NOT NULL,\n",
    "    vaccine TEXT NOT NULL,\n",
    "    FOREIGN KEY (location_id) REFERENCES Location(location_id)\n",
    ");\n",
    "\"\"\"\n",
    "\n",
    "try:\n",
    "    cur.execute(createVaccinationTableSql)\n",
    "    conn.commit()\n",
    "    print('Successfully Created the table Vaccination')\n",
    "except Exception as e:\n",
    "    print(e)\n",
    "finally:\n",
    "    conn.close()"
   ]
  },
  {
   "attachments": {},
   "cell_type": "markdown",
   "id": "11d22d1d-bb3b-4fa9-8e3b-24c04783251e",
   "metadata": {},
   "source": [
    "#### Process the CSV File"
   ]
  },
  {
   "cell_type": "code",
   "execution_count": 11,
   "id": "6a959b1c-b8c9-416e-a8cb-ff03f08d2b03",
   "metadata": {},
   "outputs": [
    {
     "name": "stdout",
     "output_type": "stream",
     "text": [
      "Successfully saved the table Location\n",
      "Successfully saved the table Source\n",
      "Successfully saved the table Vaccination\n"
     ]
    }
   ],
   "source": [
    "conn = sqlite3.connect('Vaccinations.db')\n",
    "\n",
    "# Load your CSV file into a pandas DataFrame\n",
    "root_df = pd.read_csv('https://raw.githubusercontent.com/owid/covid-19-data/master/public/data/vaccinations/locations.csv')\n",
    "root_df = root_df.assign(vaccine=root_df['vaccines'].str.split(', ')).explode('vaccine')\n",
    "root_df.drop('vaccines', axis=1, inplace=True)\n",
    "\n",
    "# Create the Location dataframe\n",
    "location_df = root_df[['location', 'iso_code']].drop_duplicates().reset_index(drop=True)\n",
    "location_df.index.name = 'location_id'\n",
    "\n",
    "# Create the Source dataframe\n",
    "source_df = root_df[['location', 'last_observation_date', 'source_name', 'source_website']].drop_duplicates().reset_index(drop=True)\n",
    "source_df.index.name = 'source_id'\n",
    "\n",
    "source_df = source_df.merge(location_df, on='location', how='left')\n",
    "source_df.drop('location', axis=1, inplace=True)\n",
    "source_df.drop('iso_code', axis=1, inplace=True)\n",
    "\n",
    "# Create the Vaccination dataframe\n",
    "vaccination_df = root_df[['location', 'vaccine']].drop_duplicates().reset_index(drop=True)\n",
    "vaccination_df.index.name = 'vaccination_id'\n",
    "\n",
    "vaccination_df = vaccination_df.merge(location_df, on='location', how='left')\n",
    "vaccination_df.drop('location', axis=1, inplace=True)\n",
    "vaccination_df.drop('iso_code', axis=1, inplace=True)\n",
    "\n",
    "# Save the dataframes to the database\n",
    "try:\n",
    "    location_df.to_sql('Location', conn, if_exists='replace')\n",
    "    print('Successfully saved the table Location')\n",
    "    source_df.to_sql('Source', conn, if_exists='replace')\n",
    "    print('Successfully saved the table Source')\n",
    "    vaccination_df.to_sql('Vaccination', conn, if_exists='replace')\n",
    "    print('Successfully saved the table Vaccination')\n",
    "except Exception as e:\n",
    "    print(e)\n",
    "finally:\n",
    "    conn.close()"
   ]
  }
 ],
 "metadata": {
  "kernelspec": {
   "display_name": "Python 3 (ipykernel)",
   "language": "python",
   "name": "python3"
  },
  "language_info": {
   "codemirror_mode": {
    "name": "ipython",
    "version": 3
   },
   "file_extension": ".py",
   "mimetype": "text/x-python",
   "name": "python",
   "nbconvert_exporter": "python",
   "pygments_lexer": "ipython3",
   "version": "3.11.3"
  }
 },
 "nbformat": 4,
 "nbformat_minor": 5
}
